{
 "cells": [
  {
   "cell_type": "code",
   "execution_count": 1,
   "id": "802036b8",
   "metadata": {},
   "outputs": [],
   "source": [
    "using Gridap\n",
    "using GridapGmsh\n",
    "using Gridap.Io"
   ]
  },
  {
   "cell_type": "code",
   "execution_count": 2,
   "id": "5b489841",
   "metadata": {},
   "outputs": [],
   "source": [
    "function Gridap.DiscreteModelFromFile(filename::AbstractString,::Val{:msh})\n",
    "  model = GmshDiscreteModel(filename)\n",
    "  model\n",
    "end"
   ]
  },
  {
   "cell_type": "code",
   "execution_count": 3,
   "id": "7da2a3cc",
   "metadata": {},
   "outputs": [
    {
     "name": "stdout",
     "output_type": "stream",
     "text": [
      "Info    : Reading 'disc_with_hole_3.msh'...\n",
      "Info    : 5 entities\n",
      "Info    : 845 nodes\n",
      "Info    : 1692 elements\n",
      "Info    : Done reading 'disc_with_hole_3.msh'\n"
     ]
    },
    {
     "data": {
      "text/plain": [
       "UnstructuredDiscreteModel()"
      ]
     },
     "execution_count": 3,
     "metadata": {},
     "output_type": "execute_result"
    }
   ],
   "source": [
    "model = DiscreteModelFromFile(\"disc_with_hole_3.msh\")"
   ]
  },
  {
   "cell_type": "code",
   "execution_count": 4,
   "id": "d6cd900e",
   "metadata": {},
   "outputs": [
    {
     "data": {
      "text/plain": [
       "(Lagrangian(), (Float64, 1), Base.Pairs{Symbol, Union{}, Tuple{}, NamedTuple{(), Tuple{}}}())"
      ]
     },
     "execution_count": 4,
     "metadata": {},
     "output_type": "execute_result"
    }
   ],
   "source": [
    "order = 1\n",
    "reffe = ReferenceFE(lagrangian,Float64,order)\n"
   ]
  },
  {
   "cell_type": "code",
   "execution_count": 26,
   "id": "0eaf9549",
   "metadata": {},
   "outputs": [
    {
     "data": {
      "text/plain": [
       "TrialFESpace()"
      ]
     },
     "execution_count": 26,
     "metadata": {},
     "output_type": "execute_result"
    }
   ],
   "source": [
    "V0 = TestFESpace(model,reffe;conformity=:H1,dirichlet_tags=[\"inner_boundary\",\"outer_boundary\"])\n",
    "Ug = TrialFESpace(V0, [1.0, 2.0]) #the 2 boundary conditions"
   ]
  },
  {
   "cell_type": "code",
   "execution_count": 27,
   "id": "8c738fbe",
   "metadata": {},
   "outputs": [
    {
     "data": {
      "text/plain": [
       "b (generic function with 1 method)"
      ]
     },
     "execution_count": 27,
     "metadata": {},
     "output_type": "execute_result"
    }
   ],
   "source": [
    "degree = 2\n",
    "f(x) = 1.0 #\n",
    "Ω = Triangulation(model)\n",
    "dΩ = Measure(Ω,degree)\n",
    "a(u,v) = ∫( ∇(v)⋅∇(u) )dΩ\n",
    "b(v) = ∫( v*f )*dΩ\n"
   ]
  },
  {
   "cell_type": "code",
   "execution_count": 28,
   "id": "51d6806d",
   "metadata": {},
   "outputs": [
    {
     "data": {
      "text/plain": [
       "([\"laplace_task3.vtu\"],)"
      ]
     },
     "execution_count": 28,
     "metadata": {},
     "output_type": "execute_result"
    }
   ],
   "source": [
    "op = AffineFEOperator(a,b,Ug,V0)\n",
    "uh = solve(op)\n",
    "writevtk(Ω,\"laplace_task3\",cellfields=[\"uh\"=>uh])"
   ]
  },
  {
   "cell_type": "code",
   "execution_count": 25,
   "id": "8daaf10d",
   "metadata": {},
   "outputs": [],
   "source": [
    "A=get_matrix(op)\n",
    "bb=get_vector(op);"
   ]
  },
  {
   "cell_type": "code",
   "execution_count": null,
   "id": "339258d9",
   "metadata": {
    "scrolled": true
   },
   "outputs": [],
   "source": []
  },
  {
   "cell_type": "code",
   "execution_count": null,
   "id": "c4c6a05a",
   "metadata": {},
   "outputs": [],
   "source": []
  },
  {
   "cell_type": "code",
   "execution_count": null,
   "id": "e100745b",
   "metadata": {},
   "outputs": [],
   "source": []
  }
 ],
 "metadata": {
  "kernelspec": {
   "display_name": "Julia 1.7.2",
   "language": "julia",
   "name": "julia-1.7"
  },
  "language_info": {
   "file_extension": ".jl",
   "mimetype": "application/julia",
   "name": "julia",
   "version": "1.7.3"
  }
 },
 "nbformat": 4,
 "nbformat_minor": 5
}
