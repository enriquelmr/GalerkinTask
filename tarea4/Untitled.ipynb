{
 "cells": [
  {
   "cell_type": "code",
   "execution_count": 1,
   "id": "ea93cb8f",
   "metadata": {},
   "outputs": [],
   "source": [
    "using Gridap\n",
    "using GridapGmsh\n",
    "using Gridap.Io\n",
    "using LinearAlgebra"
   ]
  },
  {
   "cell_type": "code",
   "execution_count": 2,
   "id": "c4cc24e0",
   "metadata": {},
   "outputs": [],
   "source": [
    "function Gridap.DiscreteModelFromFile(filename::AbstractString,::Val{:msh})\n",
    "  model = GmshDiscreteModel(filename)\n",
    "  model\n",
    "end"
   ]
  },
  {
   "cell_type": "code",
   "execution_count": 3,
   "id": "2fc2b3e7",
   "metadata": {},
   "outputs": [
    {
     "data": {
      "text/plain": [
       "g (generic function with 1 method)"
      ]
     },
     "execution_count": 3,
     "metadata": {},
     "output_type": "execute_result"
    }
   ],
   "source": [
    "#the function for the dirichlet boundary conditions as is defined in the excersice sheet\n",
    "g(x)=sum(x)"
   ]
  },
  {
   "cell_type": "code",
   "execution_count": 4,
   "id": "3358580d",
   "metadata": {},
   "outputs": [
    {
     "data": {
      "text/plain": [
       "f (generic function with 1 method)"
      ]
     },
     "execution_count": 4,
     "metadata": {},
     "output_type": "execute_result"
    }
   ],
   "source": [
    " # here it goes the function of the right side of the poisson eq\n",
    "#this is only a test function, we can chosse whichever and solve the problem\n",
    "#because here we are trying to measure the run time\n",
    "f(x) = norm(x)"
   ]
  },
  {
   "cell_type": "code",
   "execution_count": 5,
   "id": "8ead7ae7",
   "metadata": {},
   "outputs": [
    {
     "data": {
      "text/plain": [
       "solve_poisson (generic function with 1 method)"
      ]
     },
     "execution_count": 5,
     "metadata": {},
     "output_type": "execute_result"
    }
   ],
   "source": [
    "\n",
    "function solve_poisson(mesh_file; order=1)\n",
    "  # Load the mesh\n",
    "  @info \"Loading mesh file $mesh_file\"\n",
    "  model = GmshDiscreteModel(mesh_file)\n",
    "  \n",
    "\n",
    "  reffe = ReferenceFE(lagrangian, Float64, order)\n",
    "  V0 = TestFESpace(model, reffe;conformity=:H1, dirichlet_tags=[\"wall\"])\n",
    "  U = TrialFESpace(V0, g)\n",
    "    degree = 2 * order \n",
    "  Ω = Triangulation(model)\n",
    "  dΩ = Measure(Ω, degree)\n",
    "\n",
    "  \n",
    "  a(u,v) = ∫( ∇(v) ⋅ ∇(u) ) * dΩ\n",
    "  b(v) = ∫( v*f ) * dΩ\n",
    "  op = AffineFEOperator(a, b, U, V0)\n",
    "\n",
    " \n",
    "  uh = solve(op)\n",
    "\n",
    "\n",
    "  # write the output as the entrance to identify each one\n",
    "  filename = first(splitext(mesh_file)) * \"_solution.vtu\"\n",
    "  writevtk(Ω, filename, cellfields=[ \"uh\" => uh])\n",
    "\n",
    "  return op\n",
    "end"
   ]
  },
  {
   "cell_type": "code",
   "execution_count": 186,
   "id": "e975aee7",
   "metadata": {},
   "outputs": [
    {
     "name": "stderr",
     "output_type": "stream",
     "text": [
      "┌ Info: Loading mesh file rectangulo.msh\n",
      "└ @ Main In[185]:4\n"
     ]
    },
    {
     "name": "stdout",
     "output_type": "stream",
     "text": [
      "Info    : Reading 'rectangulo.msh'...\n",
      "Info    : 9 entities\n",
      "Info    : 729 nodes\n",
      "Info    : 1456 elements\n",
      "Info    : Done reading 'rectangulo.msh'\n"
     ]
    },
    {
     "data": {
      "text/plain": [
       "0.00416795"
      ]
     },
     "execution_count": 186,
     "metadata": {},
     "output_type": "execute_result"
    }
   ],
   "source": [
    "rec=solve_poisson(\"rectangulo.msh\")\n",
    "Ar=get_matrix(rec)\n",
    "br=get_vector(rec)\n",
    "Ar_dense=Matrix(Ar);\n",
    "tsr = @elapsed begin cholesky(Ar)\\br end\n",
    "\n",
    "tmr = @elapsed begin lu(Ar_dense)\\br end\n",
    "abs(tsr-tmr)"
   ]
  },
  {
   "cell_type": "code",
   "execution_count": 7,
   "id": "f3055ab6",
   "metadata": {},
   "outputs": [
    {
     "name": "stderr",
     "output_type": "stream",
     "text": [
      "┌ Info: Loading mesh file cub05.msh\n",
      "└ @ Main In[5]:4\n"
     ]
    },
    {
     "name": "stdout",
     "output_type": "stream",
     "text": [
      "Info    : Reading 'cub05.msh'...\n",
      "Info    : 27 entities\n",
      "Info    : 1843 nodes\n",
      "Info    : 8089 elements\n",
      "Info    : Done reading 'cub05.msh'\n"
     ]
    },
    {
     "data": {
      "text/plain": [
       "0.10156817500000004"
      ]
     },
     "execution_count": 7,
     "metadata": {},
     "output_type": "execute_result"
    }
   ],
   "source": [
    "cub=solve_poisson(\"cub05.msh\")\n",
    "Ac=get_matrix(cub)\n",
    "bc=get_vector(cub)\n",
    "Ac_dense=Matrix(Ac);\n",
    "tsc = @elapsed begin cholesky(Ac)\\bc end\n",
    "\n",
    "tmc = @elapsed begin lu(Ac_dense)\\bc end\n",
    "abs(tsc-tmc)"
   ]
  },
  {
   "cell_type": "code",
   "execution_count": 188,
   "id": "5ba7b350",
   "metadata": {},
   "outputs": [
    {
     "name": "stderr",
     "output_type": "stream",
     "text": [
      "┌ Info: Loading mesh file line.msh\n",
      "└ @ Main In[185]:4\n"
     ]
    },
    {
     "name": "stdout",
     "output_type": "stream",
     "text": [
      "Info    : Reading 'line.msh'...\n",
      "Info    : 3 entities\n",
      "Info    : 11 nodes\n",
      "Info    : 12 elements\n",
      "Info    : Done reading 'line.msh'\n"
     ]
    },
    {
     "data": {
      "text/plain": [
       "1.6621e-5"
      ]
     },
     "execution_count": 188,
     "metadata": {},
     "output_type": "execute_result"
    }
   ],
   "source": [
    "lin=solve_poisson(\"line.msh\")\n",
    "Al=get_matrix(lin)\n",
    "bl=get_vector(lin)\n",
    "Al_dense=Matrix(Al);\n",
    "tsl = @elapsed begin cholesky(Al)\\bl end\n",
    "\n",
    "tml = @elapsed begin lu(Al_dense)\\bl end"
   ]
  },
  {
   "cell_type": "code",
   "execution_count": null,
   "id": "d356a6af",
   "metadata": {},
   "outputs": [],
   "source": [
    "file_name=[\"cube1\",\"cube2\",\"cube3\",\"cube4\"]\n",
    "for "
   ]
  }
 ],
 "metadata": {
  "kernelspec": {
   "display_name": "Julia 1.7.2",
   "language": "julia",
   "name": "julia-1.7"
  },
  "language_info": {
   "file_extension": ".jl",
   "mimetype": "application/julia",
   "name": "julia",
   "version": "1.7.3"
  }
 },
 "nbformat": 4,
 "nbformat_minor": 5
}
